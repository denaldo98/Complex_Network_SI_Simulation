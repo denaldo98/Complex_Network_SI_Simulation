{
 "cells": [
  {
   "cell_type": "code",
   "execution_count": 41,
   "metadata": {},
   "outputs": [],
   "source": [
    "import networkx as nx\n",
    "import numpy as np\n",
    "#g = nx.read_edgelist(\"comm-linux-kernel-reply.edges\", comments=\"%\", delimiter=\"\\t\", data=((\"person\", int), (\"timestamp\", int)))"
   ]
  },
  {
   "cell_type": "markdown",
   "metadata": {},
   "source": [
    "# For the static network"
   ]
  },
  {
   "cell_type": "code",
   "execution_count": 42,
   "metadata": {},
   "outputs": [],
   "source": [
    "# Reading edges file as a static network (without considerations for timestamps)\n",
    "def read_edges_network_static(file, comment=\"%\", delim=\"\\t\"):\n",
    "    g = nx.MultiDiGraph() # TODO: Change for digraph only when weighting\n",
    "\n",
    "    with open(file, \"r\") as f:\n",
    "        for l in f:\n",
    "            # Skip comment lines\n",
    "            if l[0] != comment:\n",
    "                data = list(map(int, l.strip().split(delim)))\n",
    "\n",
    "                # For now, we'll simply add edges without considering if they already exists\n",
    "                g.add_edge(data[0], data[1], weight=data[2], timestamp=data[3])\n",
    "\n",
    "    return g\n"
   ]
  },
  {
   "cell_type": "code",
   "execution_count": 43,
   "metadata": {},
   "outputs": [
    {
     "name": "stdout",
     "output_type": "stream",
     "text": [
      "True True\n"
     ]
    },
    {
     "data": {
      "text/plain": [
       "{0: {'weight': 1, 'timestamp': 1138211184},\n",
       " 1: {'weight': 1, 'timestamp': 1138213453},\n",
       " 2: {'weight': 1, 'timestamp': 1138733731},\n",
       " 3: {'weight': 1, 'timestamp': 1138734991}}"
      ]
     },
     "execution_count": 43,
     "metadata": {},
     "output_type": "execute_result"
    }
   ],
   "source": [
    "g = read_edges_network_static(\"comm-linux-kernel-reply.edges.txt\")\n",
    "print(nx.is_directed(g), nx.is_weighted(g)) # To ensure correct parsing\n",
    "g.get_edge_data(33, 28) # 33 has mumtiple conections with 28"
   ]
  },
  {
   "cell_type": "code",
   "execution_count": 44,
   "metadata": {},
   "outputs": [],
   "source": [
    "def get_network_summary(G):\n",
    "    net_desc = {\"name\":G.name}\n",
    "\n",
    "    # Compute all descriptors\n",
    "    net_desc['n_nodes'] = G.number_of_nodes()\n",
    "    net_desc['n_edges'] = G.number_of_edges()\n",
    "    \n",
    "    degrees_values = [val for key,val in G.degree()] # degree for each node\n",
    "    net_desc['min_deg'] = np.min(degrees_values)\n",
    "    net_desc['max_deg'] = np.max(degrees_values)\n",
    "    net_desc['avg_deg'] = round(np.mean(degrees_values), 4) # 4 decimal digits\n",
    "\n",
    "    #net_desc['avg_clust'] = round(nx.average_clustering(G), 4)\n",
    "    #net_desc['assortativity'] = round(nx.degree_assortativity_coefficient(G), 4)\n",
    "    #net_desc['avg_path_len'] = round(nx.average_shortest_path_length(G), 4)\n",
    "    #net_desc['diameter'] = nx.diameter(G)\n",
    "    \n",
    "    return net_desc"
   ]
  },
  {
   "cell_type": "code",
   "execution_count": 45,
   "metadata": {},
   "outputs": [
    {
     "name": "stdout",
     "output_type": "stream",
     "text": [
      "{'name': '', 'n_nodes': 27927, 'n_edges': 1096440, 'min_deg': 1, 'max_deg': 53028, 'avg_deg': 78.5219}\n"
     ]
    }
   ],
   "source": [
    "print(get_network_summary(g))"
   ]
  },
  {
   "cell_type": "markdown",
   "metadata": {},
   "source": [
    "# For the timestamped network"
   ]
  },
  {
   "cell_type": "code",
   "execution_count": null,
   "metadata": {},
   "outputs": [],
   "source": []
  }
 ],
 "metadata": {
  "interpreter": {
   "hash": "bc0a33a7d389754d5ce777980d10adfe32d58ebc93931becd7a8acada4ae550b"
  },
  "kernelspec": {
   "display_name": "Python 3.9.6 64-bit",
   "language": "python",
   "name": "python3"
  },
  "language_info": {
   "codemirror_mode": {
    "name": "ipython",
    "version": 3
   },
   "file_extension": ".py",
   "mimetype": "text/x-python",
   "name": "python",
   "nbconvert_exporter": "python",
   "pygments_lexer": "ipython3",
   "version": "3.9.6"
  },
  "orig_nbformat": 4
 },
 "nbformat": 4,
 "nbformat_minor": 2
}
