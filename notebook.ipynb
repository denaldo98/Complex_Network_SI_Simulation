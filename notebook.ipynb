{
 "cells": [
  {
   "cell_type": "markdown",
   "metadata": {},
   "source": [
    "# SI simulation on mail temporal network"
   ]
  },
  {
   "cell_type": "markdown",
   "metadata": {},
   "source": [
    "### Import libraries"
   ]
  },
  {
   "cell_type": "code",
   "execution_count": 114,
   "metadata": {},
   "outputs": [],
   "source": [
    "import networkx as nx\n",
    "import numpy as np\n",
    "import random\n",
    "from tqdm import tqdm\n",
    "import matplotlib.pyplot as plt\n",
    "import copy\n",
    "\n",
    "# import utily functions\n",
    "import network_utils as utl\n",
    "\n",
    "\n",
    "%matplotlib inline\n",
    "plt.style.use('seaborn-darkgrid')\n",
    "plt.rcParams[\"figure.figsize\"] = (12, 6)\n",
    "\n",
    "# set random seed for repeating experiments\n",
    "random.seed(10)"
   ]
  },
  {
   "cell_type": "code",
   "execution_count": 115,
   "metadata": {},
   "outputs": [],
   "source": [
    "# name of the network file\n",
    "file_name = \"comm-linux-kernel-reply.edges\" "
   ]
  },
  {
   "cell_type": "markdown",
   "metadata": {},
   "source": [
    "## Read the network"
   ]
  },
  {
   "cell_type": "markdown",
   "metadata": {},
   "source": [
    "### Explore the Network File\n",
    "Before actually reading the network, let's visualize how the file containing the network data is structured:"
   ]
  },
  {
   "cell_type": "code",
   "execution_count": 117,
   "metadata": {},
   "outputs": [
    {
     "name": "stdout",
     "output_type": "stream",
     "text": [
      "% asym positive\n",
      "\n",
      "%This is the communication network of the Linux kernel mailing list. \n",
      "\n",
      "% Nodes are persons (identified by their email addresses), and each directed edge represents a reply from a user to another.\n",
      "\n",
      "33\t33\t1\t1138206644\n",
      "\n",
      "33\t28\t1\t1138211184\n",
      "\n",
      "33\t28\t1\t1138213453\n",
      "\n",
      "28\t2\t1\t1138215043\n",
      "\n",
      "28\t58\t1\t1138218253\n",
      "\n",
      "2\t58\t1\t1138218253\n",
      "\n",
      "58\t59\t1\t1138220449\n",
      "\n",
      "59\t16\t1\t1138225156\n",
      "\n",
      "16\t59\t1\t1138227964\n",
      "\n",
      "59\t60\t1\t1138233190\n",
      "\n",
      "16\t33\t1\t1138289283\n",
      "\n",
      "59\t33\t1\t1138290914\n",
      "\n"
     ]
    }
   ],
   "source": [
    "# open file in read mode\n",
    "with open(file_name, \"r\") as f:\n",
    "    # read and print first 15 lines of the file\n",
    "    for i in range(15):\n",
    "        line = f.readline()\n",
    "        print(line)"
   ]
  },
  {
   "cell_type": "markdown",
   "metadata": {},
   "source": [
    "From the above output we can see that the file contains the edges of a communication network of the Linux kernel mailing list. <br> In particular, nodes are persons (identified by their email addresses), and each directed edge represents a reply from a user to another. The last column represents the timestamp of the mail exchange between two users. <br>\n",
    "Therefore, the network of interest is a TEMPORAL and DIRECTED network that represents the exchange of mails over time between nodes that represent persons. Notice that the third column represents the weight of each edge."
   ]
  },
  {
   "cell_type": "markdown",
   "metadata": {},
   "source": [
    "To better understand the network and obtain some more insights, lets visualize the source nodes, destination nodes and the timestamp ranges:"
   ]
  },
  {
   "cell_type": "code",
   "execution_count": 118,
   "metadata": {},
   "outputs": [
    {
     "name": "stderr",
     "output_type": "stream",
     "text": [
      "1096443it [00:02, 508260.79it/s]\n"
     ]
    }
   ],
   "source": [
    "source_nodes = [] # list with the source nodes\n",
    "destination_nodes = [] # list with the destination nodes\n",
    "time_stamps = [] # list with the timestamps\n",
    "comment=\"%\" # start char of comment lines\n",
    "delim=\"\\t\" # delimiter char\n",
    "\n",
    "# read file and store nodes and timestamps\n",
    "with open(file_name, \"r\") as f:\n",
    "    for l in tqdm(f):\n",
    "        # Skip comment lines\n",
    "        if l[0] != comment:\n",
    "            \n",
    "            # put edge data into a list of integers\n",
    "            data = list(map(int, l.strip().split(delim)))\n",
    "            \n",
    "            # append to lists\n",
    "            source_nodes.append(data[0])\n",
    "            destination_nodes.append(data[1])\n",
    "            time_stamps.append(data[3])"
   ]
  },
  {
   "cell_type": "code",
   "execution_count": 119,
   "metadata": {},
   "outputs": [
    {
     "name": "stdout",
     "output_type": "stream",
     "text": [
      "Total number of edges: 1096440\n",
      "Total number of source nodes: 25089\n",
      "Total number of destination nodes: 25212\n",
      "NUmber of different timestamps: 881701\n"
     ]
    }
   ],
   "source": [
    "print(\"Total number of edges: {}\".format(len(source_nodes)))\n",
    "print(\"Total number of source nodes: {}\".format(len(set(source_nodes))))\n",
    "print(\"Total number of destination nodes: {}\".format(len(set(destination_nodes))))\n",
    "print(\"NUmber of different timestamps: {}\".format(len(set(time_stamps))))"
   ]
  },
  {
   "cell_type": "markdown",
   "metadata": {},
   "source": [
    "It may be interesting to better understand the range of node ids:"
   ]
  },
  {
   "cell_type": "code",
   "execution_count": 120,
   "metadata": {},
   "outputs": [],
   "source": [
    "# All the nodes of the net\n",
    "nodes_set = set(source_nodes).union(set(destination_nodes))"
   ]
  },
  {
   "cell_type": "code",
   "execution_count": 121,
   "metadata": {},
   "outputs": [
    {
     "data": {
      "text/plain": [
       "27927"
      ]
     },
     "execution_count": 121,
     "metadata": {},
     "output_type": "execute_result"
    }
   ],
   "source": [
    "# Total number of nodes (persons) in the network\n",
    "len(nodes_set)"
   ]
  },
  {
   "cell_type": "markdown",
   "metadata": {},
   "source": [
    "We can print the (sorted) set of all the nodes:"
   ]
  },
  {
   "cell_type": "code",
   "execution_count": 123,
   "metadata": {},
   "outputs": [
    {
     "data": {
      "text/plain": [
       "(1, 63399)"
      ]
     },
     "execution_count": 123,
     "metadata": {},
     "output_type": "execute_result"
    }
   ],
   "source": [
    "sorted(nodes_set)[0], sorted(nodes_set)[-1]"
   ]
  },
  {
   "cell_type": "markdown",
   "metadata": {},
   "source": [
    "It seems that node identifiers start from 1 up to 63399, but the number of total nodes is 27927, therefore some identifiers are simply not present."
   ]
  },
  {
   "cell_type": "code",
   "execution_count": 124,
   "metadata": {},
   "outputs": [
    {
     "data": {
      "text/plain": [
       "25089"
      ]
     },
     "execution_count": 124,
     "metadata": {},
     "output_type": "execute_result"
    }
   ],
   "source": [
    "# Visualize the set of source nodes\n",
    "len(set(source_nodes))"
   ]
  },
  {
   "cell_type": "code",
   "execution_count": 125,
   "metadata": {},
   "outputs": [
    {
     "data": {
      "text/plain": [
       "25212"
      ]
     },
     "execution_count": 125,
     "metadata": {},
     "output_type": "execute_result"
    }
   ],
   "source": [
    "# Visualize the set of destination nodes\n",
    "len(set(destination_nodes))"
   ]
  },
  {
   "cell_type": "markdown",
   "metadata": {},
   "source": [
    "We can now take a look at the timestamps:"
   ]
  },
  {
   "cell_type": "code",
   "execution_count": 126,
   "metadata": {},
   "outputs": [],
   "source": [
    "time_stamps_set = sorted(set(time_stamps))"
   ]
  },
  {
   "cell_type": "markdown",
   "metadata": {},
   "source": [
    "It may be intersting to visualize the smallest and the highest timestamp value, as well as the distribution of timestamps, to better understand those with high mail exchange."
   ]
  },
  {
   "cell_type": "code",
   "execution_count": 127,
   "metadata": {},
   "outputs": [
    {
     "data": {
      "text/plain": [
       "(1136080607, 1388528616)"
      ]
     },
     "execution_count": 127,
     "metadata": {},
     "output_type": "execute_result"
    }
   ],
   "source": [
    "# min and max timestamps\n",
    "timestamp_min = np.min(time_stamps_set)\n",
    "timestamp_max = np.max(time_stamps_set)\n",
    "timestamp_min, timestamp_max"
   ]
  },
  {
   "cell_type": "markdown",
   "metadata": {},
   "source": [
    "We could retrieve the date into a readable format:"
   ]
  },
  {
   "cell_type": "code",
   "execution_count": 129,
   "metadata": {},
   "outputs": [
    {
     "data": {
      "text/plain": [
       "('2006-01-01 02:56:47', '2013-12-31 23:23:36')"
      ]
     },
     "execution_count": 129,
     "metadata": {},
     "output_type": "execute_result"
    }
   ],
   "source": [
    "from datetime import datetime\n",
    "\n",
    "# first and last timestamps\n",
    "datetime.fromtimestamp(timestamp_min).strftime('%Y-%m-%d %H:%M:%S'), datetime.fromtimestamp(timestamp_max).strftime('%Y-%m-%d %H:%M:%S')"
   ]
  },
  {
   "cell_type": "markdown",
   "metadata": {},
   "source": [
    "This allows us to understand that the network contains email exchanged during 8 full years, from 2006 to 2013, between 27927 users/mails."
   ]
  },
  {
   "cell_type": "markdown",
   "metadata": {},
   "source": [
    "### Read temporal and directed network\n",
    "We'll now read the network by using the networkx function 'read_edgelist', which allows to read directly the .EDGES file specifying some additional arguments as explained in the documentation (PUT LINK). In particular, we'll add to each edge an attribute encoding its weight and another atttribute encoding the timestamp. We therefore read the network as a Directed Network with Multiple edges."
   ]
  },
  {
   "cell_type": "code",
   "execution_count": 130,
   "metadata": {},
   "outputs": [],
   "source": [
    "g = nx.read_edgelist(\"comm-linux-kernel-reply.edges\", comments=\"%\", delimiter=\"\\t\", create_using = nx.MultiDiGraph(), data=((\"weight\", int), (\"timestamp\", int)))"
   ]
  },
  {
   "cell_type": "markdown",
   "metadata": {},
   "source": [
    "Let's check the correct reading of the networK:"
   ]
  },
  {
   "cell_type": "code",
   "execution_count": 131,
   "metadata": {},
   "outputs": [
    {
     "name": "stdout",
     "output_type": "stream",
     "text": [
      "MultiDiGraph with 27927 nodes and 1096440 edges\n",
      "True True\n"
     ]
    }
   ],
   "source": [
    "print(g)\n",
    "# check if directed and if weighted\n",
    "print(nx.is_directed(g), nx.is_weighted(g))"
   ]
  },
  {
   "cell_type": "code",
   "execution_count": null,
   "metadata": {},
   "outputs": [],
   "source": [
    "# to get list of edges with corresponding attributes\n",
    "edges = list(g.edges.data())"
   ]
  },
  {
   "cell_type": "code",
   "execution_count": 133,
   "metadata": {},
   "outputs": [
    {
     "name": "stdout",
     "output_type": "stream",
     "text": [
      "[('33', '33', {'weight': 1, 'timestamp': 1137777721}), ('33', '33', {'weight': 1, 'timestamp': 1137778200}), ('33', '33', {'weight': 1, 'timestamp': 1138386487}), ('33', '33', {'weight': 1, 'timestamp': 1136909626}), ('33', '33', {'weight': 1, 'timestamp': 1140713637}), ('33', '33', {'weight': 1, 'timestamp': 1143771296}), ('33', '33', {'weight': 1, 'timestamp': 1143771296}), ('33', '33', {'weight': 1, 'timestamp': 1143820149}), ('33', '33', {'weight': 1, 'timestamp': 1143820214}), ('33', '33', {'weight': 1, 'timestamp': 1143820215}), ('33', '33', {'weight': 1, 'timestamp': 1143823216}), ('33', '33', {'weight': 1, 'timestamp': 1143581727}), ('33', '33', {'weight': 1, 'timestamp': 1143584883}), ('33', '33', {'weight': 1, 'timestamp': 1143589499}), ('33', '33', {'weight': 1, 'timestamp': 1154384149}), ('33', '33', {'weight': 1, 'timestamp': 1163109248}), ('33', '33', {'weight': 1, 'timestamp': 1162565216}), ('33', '33', {'weight': 1, 'timestamp': 1166205845}), ('33', '33', {'weight': 1, 'timestamp': 1168372266}), ('33', '33', {'weight': 1, 'timestamp': 1213888319}), ('33', '33', {'weight': 1, 'timestamp': 1217785010}), ('33', '33', {'weight': 1, 'timestamp': 1217942904}), ('33', '33', {'weight': 1, 'timestamp': 1217978660}), ('33', '33', {'weight': 1, 'timestamp': 1217912419}), ('33', '33', {'weight': 1, 'timestamp': 1222622692}), ('33', '33', {'weight': 1, 'timestamp': 1222815307}), ('33', '33', {'weight': 1, 'timestamp': 1223353141}), ('33', '33', {'weight': 1, 'timestamp': 1222922504}), ('33', '33', {'weight': 1, 'timestamp': 1238359948}), ('33', '28', {'weight': 1, 'timestamp': 1138211184}), ('33', '28', {'weight': 1, 'timestamp': 1138213453}), ('33', '28', {'weight': 1, 'timestamp': 1138733731}), ('33', '28', {'weight': 1, 'timestamp': 1138734991}), ('33', '52', {'weight': 1, 'timestamp': 1138312499}), ('33', '3', {'weight': 1, 'timestamp': 1138387837}), ('33', '3', {'weight': 1, 'timestamp': 1138387843}), ('33', '3', {'weight': 1, 'timestamp': 1166079266}), ('33', '44', {'weight': 1, 'timestamp': 1138473920}), ('33', '16', {'weight': 1, 'timestamp': 1138730835}), ('33', '16', {'weight': 1, 'timestamp': 1138736292}), ('33', '16', {'weight': 1, 'timestamp': 1166117860}), ('33', '13', {'weight': 1, 'timestamp': 1138906373}), ('33', '30', {'weight': 1, 'timestamp': 1137780663}), ('33', '30', {'weight': 1, 'timestamp': 1163011549}), ('33', '761', {'weight': 1, 'timestamp': 1137806858}), ('33', '18', {'weight': 1, 'timestamp': 1138148467}), ('33', '74', {'weight': 1, 'timestamp': 1138386636}), ('33', '74', {'weight': 1, 'timestamp': 1140202765}), ('33', '74', {'weight': 1, 'timestamp': 1140211231})]\n"
     ]
    }
   ],
   "source": [
    "# visualize first 100 edges\n",
    "print(edges[1:50])"
   ]
  },
  {
   "cell_type": "markdown",
   "metadata": {},
   "source": [
    "We can clearly see that we have correclty read the network as a directed network with multiple edges and also with self-loops. <br>\n",
    "What changes between directed edges between the same nodes is the timestamp of of the 'contact'/mail exchange between the nodes."
   ]
  },
  {
   "cell_type": "markdown",
   "metadata": {},
   "source": [
    "### Read the network as static\n",
    "We may be interested in reading the network as a static one, without taking into account the timestamps. \n",
    "Let's define an auxiliary function for doing that. <br>\n",
    "<b>Important remark</b>: if a directed edge appears into two different timestamps, we'll increase the weight by one, without considering the case of multiple edges."
   ]
  },
  {
   "cell_type": "markdown",
   "metadata": {},
   "source": [
    "Let's save this network for retrieving it without the need of running the function"
   ]
  },
  {
   "cell_type": "code",
   "execution_count": 134,
   "metadata": {},
   "outputs": [],
   "source": [
    "from simuation_utils import read_network_static_singular"
   ]
  },
  {
   "cell_type": "code",
   "execution_count": 135,
   "metadata": {},
   "outputs": [
    {
     "name": "stderr",
     "output_type": "stream",
     "text": [
      "1096443it [00:03, 308214.71it/s]\n"
     ]
    }
   ],
   "source": [
    "g2 = read_network_static_singular(file_name)"
   ]
  },
  {
   "cell_type": "markdown",
   "metadata": {},
   "source": [
    "Let's inspect for correct reading:"
   ]
  },
  {
   "cell_type": "code",
   "execution_count": 136,
   "metadata": {},
   "outputs": [
    {
     "name": "stdout",
     "output_type": "stream",
     "text": [
      "DiGraph with 27927 nodes and 242976 edges\n",
      "True True\n"
     ]
    },
    {
     "data": {
      "text/plain": [
       "{'weight': 4}"
      ]
     },
     "execution_count": 136,
     "metadata": {},
     "output_type": "execute_result"
    }
   ],
   "source": [
    "print(g2)\n",
    "print(nx.is_directed(g2), nx.is_weighted(g2))\n",
    "#g2.get_edge_data(33, 28) # 33 has mumtiple conections with 28"
   ]
  },
  {
   "cell_type": "code",
   "execution_count": 137,
   "metadata": {},
   "outputs": [],
   "source": [
    "# get list of edges with corresponding attributes\n",
    "edges2 = list(g2.edges.data())"
   ]
  },
  {
   "cell_type": "code",
   "execution_count": 138,
   "metadata": {},
   "outputs": [
    {
     "name": "stdout",
     "output_type": "stream",
     "text": [
      "[(33, 28, {'weight': 4}), (33, 52, {'weight': 1}), (33, 3, {'weight': 3}), (33, 44, {'weight': 1}), (33, 16, {'weight': 3}), (33, 13, {'weight': 1}), (33, 30, {'weight': 2}), (33, 761, {'weight': 1}), (33, 18, {'weight': 1}), (33, 74, {'weight': 4}), (33, 804, {'weight': 2}), (33, 58, {'weight': 3}), (33, 1186, {'weight': 5}), (33, 94, {'weight': 3}), (33, 22, {'weight': 4}), (33, 73, {'weight': 1}), (33, 120, {'weight': 1}), (33, 605, {'weight': 1}), (33, 115, {'weight': 3})]\n"
     ]
    }
   ],
   "source": [
    "# visualize first 100 edges\n",
    "print(edges2[1:20])"
   ]
  },
  {
   "cell_type": "markdown",
   "metadata": {},
   "source": [
    "As clearly shown above, we have now read the network as a directed one, without timestamps and with a weight equal to the cardinality of edges."
   ]
  },
  {
   "cell_type": "markdown",
   "metadata": {},
   "source": [
    "A further possibility is to read the network as an undirected one"
   ]
  },
  {
   "cell_type": "markdown",
   "metadata": {},
   "source": [
    "We could check whether the graph is connected or not, in this case we may check for the \"strong connectivity\", which states that a directed graph is strongly connected if and only if every vertex in the graph is reachable from every other vertex."
   ]
  },
  {
   "cell_type": "code",
   "execution_count": 139,
   "metadata": {},
   "outputs": [
    {
     "data": {
      "text/plain": [
       "False"
      ]
     },
     "execution_count": 139,
     "metadata": {},
     "output_type": "execute_result"
    }
   ],
   "source": [
    "# check strong connectivity\n",
    "nx.is_strongly_connected(g2)"
   ]
  },
  {
   "cell_type": "markdown",
   "metadata": {},
   "source": [
    "From the above, we clearly understand that the network is not strongly connected. <br>\n",
    "We can now check whether the graph is \"weakly connected\", i.e. if it is connected when the direction of the edge between nodes is ignored."
   ]
  },
  {
   "cell_type": "code",
   "execution_count": 140,
   "metadata": {},
   "outputs": [
    {
     "data": {
      "text/plain": [
       "False"
      ]
     },
     "execution_count": 140,
     "metadata": {},
     "output_type": "execute_result"
    }
   ],
   "source": [
    "nx.is_weakly_connected(g2)"
   ]
  },
  {
   "cell_type": "markdown",
   "metadata": {},
   "source": [
    "The graph is not weakly connected.<br>\n",
    "Let's get the biggest weakly connected component:"
   ]
  },
  {
   "cell_type": "code",
   "execution_count": 141,
   "metadata": {},
   "outputs": [],
   "source": [
    "def get_biggest_weakly_connected_component(g):\n",
    "    biggest_comp_nodes = max(nx.weakly_connected_components(g), key=len)\n",
    "    return g.subgraph(biggest_comp_nodes)"
   ]
  },
  {
   "cell_type": "code",
   "execution_count": 142,
   "metadata": {},
   "outputs": [
    {
     "name": "stdout",
     "output_type": "stream",
     "text": [
      "DiGraph with 24567 nodes and 239825 edges\n"
     ]
    }
   ],
   "source": [
    "biggest_weakly = get_biggest_weakly_connected_component(g2)\n",
    "print(biggest_weakly)"
   ]
  },
  {
   "cell_type": "code",
   "execution_count": 147,
   "metadata": {},
   "outputs": [],
   "source": [
    "#biggest_weakly.edges.data()"
   ]
  },
  {
   "cell_type": "code",
   "execution_count": 144,
   "metadata": {},
   "outputs": [],
   "source": [
    "from simuation_utils import get_biggest_weakly_connected_component"
   ]
  },
  {
   "cell_type": "code",
   "execution_count": 145,
   "metadata": {},
   "outputs": [
    {
     "name": "stdout",
     "output_type": "stream",
     "text": [
      "DiGraph with 18531 nodes and 230721 edges\n"
     ]
    }
   ],
   "source": [
    "biggest_strongly = get_biggest_strongly_connected_component(g2)\n",
    "print(biggest_strongly)"
   ]
  },
  {
   "cell_type": "code",
   "execution_count": 148,
   "metadata": {},
   "outputs": [],
   "source": [
    "#biggest_strongly.edges.data()"
   ]
  },
  {
   "cell_type": "markdown",
   "metadata": {},
   "source": [
    "### Network properties"
   ]
  },
  {
   "cell_type": "code",
   "execution_count": null,
   "metadata": {},
   "outputs": [],
   "source": [
    "def get_network_summary(G):\n",
    "    net_desc = {\"name\":G.name}\n",
    "\n",
    "    # Compute all descriptors\n",
    "    net_desc['n_nodes'] = G.number_of_nodes()\n",
    "    net_desc['n_edges'] = G.number_of_edges()\n",
    "    \n",
    "    degrees_values = [val for key,val in G.degree()] # degree for each node\n",
    "    net_desc['min_deg'] = np.min(degrees_values)\n",
    "    net_desc['max_deg'] = np.max(degrees_values)\n",
    "    net_desc['avg_deg'] = round(np.mean(degrees_values), 4) # 4 decimal digits\n",
    "\n",
    "    net_desc['avg_clust'] = round(nx.average_clustering(G, weight = 'weight'), 4)\n",
    "    net_desc['assortativity'] = round(nx.degree_assortativity_coefficient(G, weight = 'weight'), 4)\n",
    "    \n",
    "    # since the net is not connected, we consider the average_shortest_path_length of the biggest weakly connecte subgraph\n",
    "    net_desc['avg_path_len'] = round(nx.average_shortest_path_length(get_biggest_weakly_connected_component(G), weight = 'weight'), 4)\n",
    "    net_desc['diameter'] = nx.diameter(G)\n",
    "    \n",
    "    return net_desc"
   ]
  },
  {
   "cell_type": "code",
   "execution_count": null,
   "metadata": {},
   "outputs": [],
   "source": [
    "print(get_network_summary(g2))"
   ]
  },
  {
   "cell_type": "markdown",
   "metadata": {},
   "source": [
    "## Plots and distributions"
   ]
  },
  {
   "cell_type": "markdown",
   "metadata": {},
   "source": [
    "We'll use the plotting functions defined in the 'network_utils.py' Python file"
   ]
  },
  {
   "cell_type": "markdown",
   "metadata": {},
   "source": [
    "### Degree distribtution histograms\n",
    "Log-log and linear"
   ]
  },
  {
   "cell_type": "code",
   "execution_count": null,
   "metadata": {},
   "outputs": [],
   "source": [
    "degrees = [g2.degree(n) for n in g2.nodes()]\n",
    "n_bins = 30 # number of bins to use"
   ]
  },
  {
   "cell_type": "markdown",
   "metadata": {},
   "source": [
    "#### PDF histograms"
   ]
  },
  {
   "cell_type": "code",
   "execution_count": null,
   "metadata": {},
   "outputs": [],
   "source": [
    "plt.figure(figsize=(12,4))\n",
    "plt.subplot(1, 2, 1)\n",
    "utl.plot_linear_PDF(g2, name='', nbins = n_bins)\n",
    "plt.subplot(1, 2, 2)\n",
    "utl.plot_loglog_PDF(g2, name=\"\", nbins = n_bins)"
   ]
  },
  {
   "cell_type": "markdown",
   "metadata": {},
   "source": [
    "#### CCDF histograms"
   ]
  },
  {
   "cell_type": "code",
   "execution_count": null,
   "metadata": {},
   "outputs": [],
   "source": [
    "plt.figure(figsize=(12,4))\n",
    "plt.subplot(1, 2, 1)\n",
    "utl.plot_linear_CCDF(g2, name=\"\", nbins=n_bins)\n",
    "plt.subplot(1, 2, 2)\n",
    "utl.plot_loglog_CCDF(g2, name=\"\", nbins = n_bins)"
   ]
  },
  {
   "cell_type": "markdown",
   "metadata": {},
   "source": [
    "From the above plots we can see that the network follows a powerlaw degree distribution (scale-free network). To better understand it we'll now estimate it's exponent and plot the theorical distribution line"
   ]
  },
  {
   "cell_type": "markdown",
   "metadata": {},
   "source": [
    "### Estimation of the exponent for the empirical degree distribution"
   ]
  },
  {
   "cell_type": "markdown",
   "metadata": {},
   "source": [
    "We'll use the MLE estimation of the exponent.\n",
    "\n",
    "* We can use the <i>powerlaw</i> Python package described here: https://arxiv.org/abs/1305.0215, which is based on a MLE of the exponent of a powerlaw distribution . <br>\n",
    "As described in the paper https://arxiv.org/abs/0706.1062, the <i>powerlaw</i> package performs the exponent estimation by following the formula 3.7 of the paper. <br>\n",
    "According to the paper, the first step to perform a maximum likelihood fit to a powerlaw is to determine what portion of the data to fit. A heavy-tailed\n",
    "distribution's interesting feature is, indeed, the tail and its properties, so if the initial, small values of the data\n",
    "do not follow a power law distribution we may opt to disregard them. The question is from what\n",
    "minimal value xmin (Kmin) the scaling relationship of the power law begins. The methods described in the paper of Clauset et al. mentioned above find this optimal value of xmin by creating a powerlaw fit starting from each unique value in the dataset, then selecting the one that results in the minimal Kolmogorov-Smirnov distance, D, between the data and the fit. Therefore the algorithm finds xmin my minimizing D. <br> <br>\n",
    "* While the maximum likelihood fit to a continous power law can be calculated analytically,\n",
    "and thus the optimal xmin and resulting fitted parameters can be computed quickly, this is not so for the discrete case. The maximum likelihood fit for a discrete power law is found by numerical optimization,\n",
    "the computation of which for every possible value of xmin can take time. To circumvent this issue,\n",
    "powerlaw can use an analytic estimate of gamma, from [https://arxiv.org/abs/0706.1062], which can \"give results accurate to about 1% or\n",
    "better provided xmin ≥ 6\".\n",
    "\n",
    "\n"
   ]
  },
  {
   "cell_type": "code",
   "execution_count": null,
   "metadata": {},
   "outputs": [],
   "source": [
    "!pip install powerlaw"
   ]
  },
  {
   "cell_type": "code",
   "execution_count": null,
   "metadata": {},
   "outputs": [],
   "source": [
    "import powerlaw\n",
    "\n",
    "degrees = [g2.degree(n) for n in g2.nodes()]\n",
    "results = powerlaw.Fit(degrees, discrete = True)\n",
    "print(\"\\n\\nExponent estimation:\")\n",
    "print(round(results.power_law.alpha, 4))\n",
    "#print(results.power_law.xmin)"
   ]
  },
  {
   "cell_type": "markdown",
   "metadata": {},
   "source": [
    "The above method gives us an estimated exponent of 1.7883, we'll now plot the theoretical distribution:"
   ]
  },
  {
   "cell_type": "code",
   "execution_count": null,
   "metadata": {},
   "outputs": [],
   "source": [
    "plt.figure(figsize=(12,4))\n",
    "plt.style.use('ggplot')\n",
    "plt.subplot(1, 2, 1)\n",
    "utl.plot_distrib_lin(graph=g2)\n",
    "plt.subplot(1, 2, 2)\n",
    "utl.plot_distrib_log(graph=g2, fit_line=True, gam=1.7883, expct_lo=3, expct_hi=50, expct_const=50)\n",
    "plt.show()"
   ]
  },
  {
   "cell_type": "markdown",
   "metadata": {},
   "source": [
    "### Plot the network"
   ]
  },
  {
   "cell_type": "code",
   "execution_count": null,
   "metadata": {},
   "outputs": [],
   "source": [
    "nx.draw(g2)"
   ]
  },
  {
   "cell_type": "markdown",
   "metadata": {},
   "source": [
    "## Communities"
   ]
  },
  {
   "cell_type": "markdown",
   "metadata": {},
   "source": [
    "To better analyze and understand the considered network, we can apply some community detection algorithms for detecting communities."
   ]
  },
  {
   "cell_type": "markdown",
   "metadata": {},
   "source": [
    "## Implementation of a Susceptible-Infected (SI) disease spreading model\n",
    "We'll now implement a SI spreading model on top of the considered <b>temporal</b> network, containing information about the timestamps of exchange of emails between users. <br>\n",
    "We will perform a study of the dynamics of the spreading and how it depends on where the process starts as well as the infectivity of the disease. <br>\n",
    "We'll then use static-network(i.e. consider the network as static) centrality measures to understand the roles played by specifing nodes. This will allow us to analyze the speed of spreading and other dynamics by taking into account some specific nodes.\n",
    "\n",
    "### SI model\n",
    "In a SI model, each node can assume a state that is either:\n",
    "* Susceptible (S)\n",
    "* Infected (I)\n",
    "\n",
    "When an infected node gets in contact with a susceptible node, this last one may become infected with a probability p in [0,1], which indicates the infectivity of the disease. \n",
    "Notice that in the case of a mail network we consider a spam mail setting (detail better the process......). <br>\n",
    "An important characteristics about the SI model is that infected nodes remain infected forever. <br><br>\n",
    "In our specific temporal network, nodes are users (i.e. mails) and timestamped connnections represent exchange of mails between them. <br>\n",
    "We'll take into consideration several hypoteses and perform different experiments:\n",
    "* we'll consider an initial node (the <i>seed</i> node of the disease spreading) as the only infected node at the beginning, or we may also consider a group of nodes\n",
    "Then, following the SI process, an email from an infected person (i.e. computer) may infect its susceptible destination with probability p in [0,1].\n",
    "Infected nodes will remain infected for the rest of the simulation."
   ]
  },
  {
   "cell_type": "markdown",
   "metadata": {},
   "source": [
    "###  Read  the timestamped network for the simulation\n",
    "In order to simplify the SI simulation, we'll now define an auxiliary function that reads the network in a convenient way for our taks:\n",
    "* the following function (<i>'read_network_temporal'</i>) reads the edges from our network file and builds a dictionary data structure where keys are represented by timestamps (ordered in increasing order), and each key points to the list of edges/contacts between pair of nodes that exchanged a mail message in that specific timestamp.<br>\n",
    "\n",
    "Because since Python 3.7+ dictionary keys are ordered, we will use a already ordered edges (by timestamp) files and store them in the same order."
   ]
  },
  {
   "cell_type": "code",
   "execution_count": 150,
   "metadata": {},
   "outputs": [],
   "source": [
    "from simuation_utils import read_network_temporal"
   ]
  },
  {
   "cell_type": "code",
   "execution_count": 151,
   "metadata": {},
   "outputs": [],
   "source": [
    "td, nodes = read_network_temporal(file_name)\n",
    "n_nodes = len(nodes)"
   ]
  },
  {
   "cell_type": "markdown",
   "metadata": {},
   "source": [
    "We can verify the correct building of the dictionary by counting the number of keys which should be 881701 according to the previous analyisis."
   ]
  },
  {
   "cell_type": "code",
   "execution_count": 152,
   "metadata": {},
   "outputs": [
    {
     "data": {
      "text/plain": [
       "881701"
      ]
     },
     "execution_count": 152,
     "metadata": {},
     "output_type": "execute_result"
    }
   ],
   "source": [
    "len(td.keys())"
   ]
  },
  {
   "cell_type": "code",
   "execution_count": 158,
   "metadata": {},
   "outputs": [
    {
     "name": "stdout",
     "output_type": "stream",
     "text": [
      "[(1138206644, [(33, 33)]), (1138211184, [(33, 28)]), (1138213453, [(33, 28)]), (1138215043, [(28, 2)]), (1138218253, [(28, 58), (2, 58)]), (1138220449, [(58, 59)]), (1138225156, [(59, 16)]), (1138227964, [(16, 59)]), (1138233190, [(59, 60)]), (1138289283, [(16, 33)])]\n"
     ]
    }
   ],
   "source": [
    "# print the dictionary\n",
    "print([(k,v) for k,v in td.items()][:10])"
   ]
  },
  {
   "cell_type": "code",
   "execution_count": null,
   "metadata": {},
   "outputs": [],
   "source": [
    "# set of nodes\n",
    "nodes"
   ]
  },
  {
   "cell_type": "markdown",
   "metadata": {},
   "source": [
    "Check if keys are ordered by timestamp value:"
   ]
  },
  {
   "cell_type": "code",
   "execution_count": 80,
   "metadata": {},
   "outputs": [],
   "source": [
    "ts = list(td.keys())"
   ]
  },
  {
   "cell_type": "code",
   "execution_count": 81,
   "metadata": {},
   "outputs": [
    {
     "data": {
      "text/plain": [
       "0"
      ]
     },
     "execution_count": 81,
     "metadata": {},
     "output_type": "execute_result"
    }
   ],
   "source": [
    "# using all() to \n",
    "# check sorted list \n",
    "flag = 0\n",
    "if(all(ts[i] <= ts[i + 1] for i in range(len(ts)-1))):\n",
    "    flag = 1\n",
    "flag"
   ]
  },
  {
   "cell_type": "markdown",
   "metadata": {},
   "source": [
    "The dictionary is not sorted by timestamps, we therefore need to sort it:"
   ]
  },
  {
   "cell_type": "code",
   "execution_count": 82,
   "metadata": {},
   "outputs": [],
   "source": [
    "td = dict(sorted(td.items()))"
   ]
  },
  {
   "cell_type": "code",
   "execution_count": null,
   "metadata": {},
   "outputs": [],
   "source": [
    "td"
   ]
  },
  {
   "cell_type": "markdown",
   "metadata": {},
   "source": [
    "Check again if sorted:"
   ]
  },
  {
   "cell_type": "code",
   "execution_count": 85,
   "metadata": {},
   "outputs": [
    {
     "data": {
      "text/plain": [
       "1"
      ]
     },
     "execution_count": 85,
     "metadata": {},
     "output_type": "execute_result"
    }
   ],
   "source": [
    "ts = list(td.keys())\n",
    "# using all() to \n",
    "# check sorted list \n",
    "flag = 0\n",
    "if(all(ts[i] <= ts[i + 1] for i in range(len(ts)-1))):\n",
    "    flag = 1\n",
    "flag"
   ]
  },
  {
   "cell_type": "markdown",
   "metadata": {},
   "source": [
    "We have now everything ready for performing our SI simulations"
   ]
  },
  {
   "cell_type": "markdown",
   "metadata": {},
   "source": [
    "### Simulation loop"
   ]
  },
  {
   "cell_type": "code",
   "execution_count": null,
   "metadata": {},
   "outputs": [],
   "source": [
    "def random_group(possible_states, probabilites):\n",
    "    \"\"\"Randomly return a certain state from possible_states\n",
    "    based on a set of probabilities of which the sum must be 1\n",
    "    \"\"\"\n",
    "    assert sum(probabilites) == 1.0\n",
    "\n",
    "    choices = []\n",
    "\n",
    "    for i, st in enumerate(possible_states):\n",
    "        choices += [st]*int(probabilites[i] * 10)\n",
    "    \n",
    "    return np.random.choice(choices)"
   ]
  },
  {
   "cell_type": "code",
   "execution_count": null,
   "metadata": {},
   "outputs": [],
   "source": [
    "def simulation_step(tx_state, rx_state, rx_inf_prob):\n",
    "    \"\"\"Apply one step of the simulation to the nodes, based on their state (Infected or not)\n",
    "    and on the reciever infection probability rx_inf.\n",
    "    Return the new state and a int equals to 1 if the state has changed, 0 otherwise\n",
    "\n",
    "    TODO: In case of implemting SI with Recovery (SIR), then choice must be -1 if recovery \n",
    "    and 1 for infection (for simulation_loop)\n",
    "    \"\"\"\n",
    "    if tx_state and not rx_state:\n",
    "        choice = np.random.binomial(1, rx_inf_prob)\n",
    "        return bool(choice), choice\n",
    "    else:\n",
    "        return rx_state, False\n",
    "\n",
    "    #return np.random.binomial(1, rx_inf_prob) if tx_state and not rx_state else rx_state"
   ]
  },
  {
   "cell_type": "code",
   "execution_count": null,
   "metadata": {},
   "outputs": [],
   "source": [
    "def simulation_loop(time_dict, states, n_nodes, inf_prob):\n",
    "    \"\"\"Applies an SI simulation based on the contact made at each timestamp.\n",
    "    Returns an array containing the evolution of the rho factor at each timestamp.\n",
    "\n",
    "    TODO: Add the support for different probabilities depending on the group of the node\n",
    "    \"\"\"\n",
    "    rho_list = np.zeros(1+len(time_dict)) # Initial rho + one rho per timestep\n",
    "    \n",
    "    for i, t in enumerate(time_dict.keys()):\n",
    "        # For each contact\n",
    "\n",
    "        # To speed up rho calculations, we'll keep track of the number of infected by monitoring\n",
    "        # if the state of nodes changed. If they went to infected, we add one to the previously \n",
    "        # saved rho.\n",
    "        temp_rho = 0\n",
    "        for contact in time_dict[t]:\n",
    "            states[contact[1]], changed = simulation_step(states[contact[0]], states[contact[1]], inf_prob)\n",
    "\n",
    "            temp_rho += changed\n",
    "        \n",
    "        # We always sums the changed as there is no recovery (cf. TODO about SIR in simulation_step)\n",
    "        rho_list[i+1] = rho_list[i] + temp_rho\n",
    "    \n",
    "    return rho_list/(n_nodes+1)"
   ]
  },
  {
   "cell_type": "code",
   "execution_count": null,
   "metadata": {},
   "outputs": [],
   "source": [
    "# Simple case: only one group, random selection of initial infected (0 or 1)\n",
    "states = dict(zip(nodes, np.random.binomial(1, 0.05, n_nodes)))\n",
    "\n",
    "# More complicated : Case with different groups\n",
    "grps = (1, 2, 3)\n",
    "probs = (0.1, 0.4, 0.5)\n",
    "#states = dict(zip(nodes, [random_group(grps, probs) for _ in range(n_nodes)]))\n",
    "\n",
    "rhos = simulation_loop(td, states, n_nodes, 0.3)"
   ]
  },
  {
   "cell_type": "code",
   "execution_count": null,
   "metadata": {},
   "outputs": [],
   "source": [
    "import matplotlib.pyplot as plt\n",
    "plt.plot(td.keys(), rhos)"
   ]
  },
  {
   "cell_type": "code",
   "execution_count": null,
   "metadata": {},
   "outputs": [],
   "source": []
  },
  {
   "cell_type": "code",
   "execution_count": 86,
   "metadata": {},
   "outputs": [],
   "source": [
    "import simulation_SI from simulation_utils"
   ]
  },
  {
   "cell_type": "markdown",
   "metadata": {},
   "source": [
    "Create dictionary of infected time for each node id:"
   ]
  },
  {
   "cell_type": "code",
   "execution_count": 87,
   "metadata": {},
   "outputs": [
    {
     "name": "stdout",
     "output_type": "stream",
     "text": [
      "[0.00010742 0.00010742 0.00010742 0.00010742 0.00010742 0.00010742\n",
      " 0.00010742 0.00010742 0.00010742 0.00010742 0.00010742 0.00010742\n",
      " 0.00010742 0.00010742 0.00010742 0.00010742 0.00010742 0.00010742\n",
      " 0.00010742 0.00010742 0.00010742 0.00010742 0.00010742 0.00010742\n",
      " 0.00010742 0.00010742 0.00010742 0.00010742 0.00010742 0.00010742\n",
      " 0.00010742 0.00010742 0.00010742 0.00010742 0.00010742 0.00010742\n",
      " 0.00010742 0.00010742 0.00010742 0.00010742 0.00010742 0.00010742\n",
      " 0.00010742 0.00010742 0.00010742 0.00010742 0.00010742 0.00010742\n",
      " 0.00010742 0.00010742]\n"
     ]
    }
   ],
   "source": [
    "seed = [1, 2, 5] # list of seed nodes\n",
    "rho_, infection_times = simulate_SI(td, seed, nodes, n_nodes, 0.2)\n",
    "\n",
    "print(rho_[:50])"
   ]
  },
  {
   "cell_type": "code",
   "execution_count": 90,
   "metadata": {},
   "outputs": [
    {
     "data": {
      "image/png": "[encoded data removed]",
      "text/plain": [
       "<Figure size 864x432 with 1 Axes>"
      ]
     },
     "metadata": {},
     "output_type": "display_data"
    }
   ],
   "source": [
    "plt.rcParams[\"figure.figsize\"] = (12, 6)\n",
    "plt.plot(td.keys(), rho_)\n",
    "plt.title(\"rho in function of time\", fontsize=15)\n",
    "plt.xlabel(\"Timestamp of infection\", fontsize=15)\n",
    "plt.ylabel(\"rho\", fontsize=15)\n",
    "plt.tight_layout()"
   ]
  },
  {
   "cell_type": "markdown",
   "metadata": {},
   "source": [
    "We can plot the time of infection also in this way:"
   ]
  },
  {
   "cell_type": "code",
   "execution_count": null,
   "metadata": {},
   "outputs": [],
   "source": [
    "#d = {1:3, 3:6, 5:10}"
   ]
  },
  {
   "cell_type": "code",
   "execution_count": null,
   "metadata": {},
   "outputs": [],
   "source": [
    "#a = {k-1:v for (k,v) in d.items()}\n",
    "#a"
   ]
  },
  {
   "cell_type": "code",
   "execution_count": 91,
   "metadata": {},
   "outputs": [],
   "source": [
    "ts_from_zero = [(k - timestamp_min) for k in td.keys()]"
   ]
  },
  {
   "cell_type": "code",
   "execution_count": 92,
   "metadata": {},
   "outputs": [
    {
     "data": {
      "image/png": "[encoded data removed]",
      "text/plain": [
       "<Figure size 864x432 with 1 Axes>"
      ]
     },
     "metadata": {},
     "output_type": "display_data"
    }
   ],
   "source": [
    "plt.rcParams[\"figure.figsize\"] = (12, 6)\n",
    "plt.plot(ts_from_zero, rho_)\n",
    "plt.title(\"rho in function of time\", fontsize=15)\n",
    "plt.xlabel(\"Timestamp of infection (from zero)\", fontsize=15)\n",
    "plt.ylabel(\"rho\", fontsize=15)\n",
    "plt.tight_layout()"
   ]
  },
  {
   "cell_type": "code",
   "execution_count": 98,
   "metadata": {},
   "outputs": [
    {
     "data": {
      "text/plain": [
       "<matplotlib.collections.PathCollection at 0x11c0731f5e0>"
      ]
     },
     "execution_count": 98,
     "metadata": {},
     "output_type": "execute_result"
    },
    {
     "data": {
      "image/png": "[encoded data removed]",
      "text/plain": [
       "<Figure size 2160x720 with 1 Axes>"
      ]
     },
     "metadata": {},
     "output_type": "display_data"
    }
   ],
   "source": [
    "plt.rcParams[\"figure.figsize\"] = (30, 10)\n",
    "plt.rcParams.update({'font.size': 20})\n",
    "infection_times_from_zero = [(v- timestamp_min) for v in infection_times.values()]\n",
    "plt.scatter(sorted(nodes),infection_times_from_zero)"
   ]
  },
  {
   "cell_type": "markdown",
   "metadata": {},
   "source": [
    "Let's now run multiple  SI simulations and average the results to reduce the variance due to the p parameter:"
   ]
  },
  {
   "cell_type": "code",
   "execution_count": 101,
   "metadata": {},
   "outputs": [],
   "source": [
    "from simuation_utils import run_multiple_simulations"
   ]
  },
  {
   "cell_type": "code",
   "execution_count": 100,
   "metadata": {},
   "outputs": [
    {
     "name": "stderr",
     "output_type": "stream",
     "text": [
      "100%|██████████| 20/20 [00:16<00:00,  1.24it/s]\n"
     ]
    }
   ],
   "source": [
    "rho = run_multiple_simulations(20, td, seed, nodes, n_nodes, 0.3)"
   ]
  },
  {
   "cell_type": "code",
   "execution_count": 162,
   "metadata": {},
   "outputs": [
    {
     "data": {
      "image/png": "[encoded data removed]",
      "text/plain": [
       "<Figure size 864x432 with 1 Axes>"
      ]
     },
     "metadata": {},
     "output_type": "display_data"
    }
   ],
   "source": [
    "plt.rcParams[\"figure.figsize\"] = (12, 6)\n",
    "plt.xticks(fontsize=15)\n",
    "plt.yticks(fontsize=15)\n",
    "plt.plot(td.keys(), rho)\n",
    "plt.title(\"rho in function of time\", fontsize=15)\n",
    "plt.xlabel(\"Timestamp of infection\", fontsize=15)\n",
    "plt.ylabel(\"rho\", fontsize=15)\n",
    "plt.tight_layout()"
   ]
  },
  {
   "cell_type": "markdown",
   "metadata": {},
   "source": [
    "# EXPERIMENTS\n",
    "\n",
    "Fix the seed nodes"
   ]
  },
  {
   "cell_type": "markdown",
   "metadata": {},
   "source": [
    "--->What happens if p=1, i.e. the infection is always transmitted\n",
    "--->if node x is infected at the beginning of the spreading, at which time node y will become infected? (Show exact time stamp)\n"
   ]
  },
  {
   "cell_type": "markdown",
   "metadata": {},
   "source": [
    "---> Effect of infection probability p on spreading speed: run the SI simulation model (e.g. 20 times) with each of the infection probabilities [0.01, 0.05, 0.1, 0.3, 0.5, 0.7, 1.0] and plot the rho curves together (start from the same seed node)\n",
    "    For which of the probabilities we obtain the highest infection percentage? Compare times of infection"
   ]
  },
  {
   "cell_type": "markdown",
   "metadata": {},
   "source": [
    "---> Study the effect of the seed node selection on spreading speed (obviusly fix p and run simulation e.g. 20 times for each seed node)\n",
    "    Spot differences in the spreading speed (you should spot them at the beginning of the pandemic)\n",
    "   "
   ]
  },
  {
   "cell_type": "markdown",
   "metadata": {},
   "source": [
    "Run the SI model 50 times with p=0.5 using different random nodes as seeds and record the MEDIAN infection time for each node.\n",
    "--> Create scatter plots showing the median infection time of each node as a function of:\n",
    "        - (unweighted)clustering coefficient c\n",
    "        - degree k\n",
    "        - strength \n",
    "        - (unweighted) betweenness centrality\n",
    "This will allow to spot correlations between infection times and various coefficients\n",
    "\n",
    "??? Use the Spearman rank-correlation coefficient (availble in scipy) for finding out which of the measures is the best predictor for the infection times\n",
    "\n",
    "Based on the above results, which measure(s) would you use to pick the place to hide, i.e. whihc measure best predicts the infection time? Why?\n",
    "Why betweenness centrality behaves differently than degree and strength\n",
    "Why clustering coeff is a poor predictor"
   ]
  },
  {
   "cell_type": "markdown",
   "metadata": {},
   "source": [
    "In order to prevent the disease from spreading to the whole email net, you may immunize some nodes.\n",
    "---> compare diffrent strategies:\n",
    "        -- immunization of random nodes\n",
    "        -- immunization of nodes with the largest values of the four measures of centrality/importance used above\n",
    "        (use e.g. p = 0.5 and average the results over 20 runs of the model for each immunization strategy)\n",
    "        N.B. To reduce the variance due to selection of seed nodes, use same seed nodes for investigating all immunization strategies. (first select your immunized nodes, and then select 20 random seed nodes such that none of them belongs to the group of immunized nodes in any of the five different strategies)\n",
    "        \n",
    "---> Plot the prevalence(rho) of the disease as a function of time for the 5 different immunization strategies, always immunizing 10 nodes.\n",
    "\n",
    "RESULTS:\n",
    "- Which of the immunization strategies performs the best, and why?\n",
    "- Why betweenness centrality performs better as an immunization strategy than as a predictor of safe hiding place="
   ]
  },
  {
   "cell_type": "markdown",
   "metadata": {},
   "source": [
    "Analyze the role of links:\n",
    "adapt the code to record the number of times that each link transmits the disease to another node. We can do this by simply storing for each node form which other node it obtained the infection.\n",
    "\n",
    "Run 20 simulations using random nodes as seeds and p = 0.5. For each simulation, record\n",
    "which links are used to infect yet uninfected nodes (either by first infection-carrying\n",
    "mails(edges) arriving to susceptible nodes or by infecting edges(mails) arriving before the already\n",
    "recorded infection time)\n",
    "Run the simulations, and compute the fraction of times that each link is used for\n",
    "infecting the disease (fij )\n",
    "\n",
    "Create scatter plots showing fij as a function of the following link properties:\n",
    "i) link weight wij\n",
    "8\n",
    "ii) unweighted link betweenness centrality ebij (edge betweenness centrality in\n",
    "networkx)\n",
    "Compute also the Spearman correlation coefficients between fij and the two link-wise\n",
    "measures."
   ]
  },
  {
   "cell_type": "markdown",
   "metadata": {},
   "source": [
    "Further extension: change probability of infection making it proportional to the edge weight?????"
   ]
  }
 ],
 "metadata": {
  "interpreter": {
   "hash": "bc0a33a7d389754d5ce777980d10adfe32d58ebc93931becd7a8acada4ae550b"
  },
  "kernelspec": {
   "display_name": "Python 3 (ipykernel)",
   "language": "python",
   "name": "python3"
  },
  "language_info": {
   "codemirror_mode": {
    "name": "ipython",
    "version": 3
   },
   "file_extension": ".py",
   "mimetype": "text/x-python",
   "name": "python",
   "nbconvert_exporter": "python",
   "pygments_lexer": "ipython3",
   "version": "3.9.6"
  }
 },
 "nbformat": 4,
 "nbformat_minor": 2
}
